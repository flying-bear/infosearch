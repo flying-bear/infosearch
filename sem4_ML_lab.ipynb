{
  "nbformat": 4,
  "nbformat_minor": 0,
  "metadata": {
    "kernelspec": {
      "display_name": "Python 3",
      "language": "python",
      "name": "python3"
    },
    "language_info": {
      "codemirror_mode": {
        "name": "ipython",
        "version": 3
      },
      "file_extension": ".py",
      "mimetype": "text/x-python",
      "name": "python",
      "nbconvert_exporter": "python",
      "pygments_lexer": "ipython3",
      "version": "3.7.0"
    },
    "colab": {
      "name": "sem4_ML_lab.ipynb",
      "provenance": [],
      "collapsed_sections": [],
      "include_colab_link": true
    }
  },
  "cells": [
    {
      "cell_type": "markdown",
      "metadata": {
        "id": "view-in-github",
        "colab_type": "text"
      },
      "source": [
        "<a href=\"https://colab.research.google.com/github/flying-bear/infosearch/blob/master/sem4_ML_lab.ipynb\" target=\"_parent\"><img src=\"https://colab.research.google.com/assets/colab-badge.svg\" alt=\"Open In Colab\"/></a>"
      ]
    },
    {
      "cell_type": "markdown",
      "metadata": {
        "id": "EKbpvYveSb-x",
        "colab_type": "text"
      },
      "source": [
        "# Лабораторная работа\n",
        "## Ранжирование с помощью ML\n",
        "\n",
        "\n",
        "![](https://avatars.mds.yandex.net/get-research/1677227/2a00000168a82fc9b0eac19e430b8454a656/orig)\n",
        "\n",
        "\n",
        "Одна из отличительных особенностей задачи ранжирования от классических задач машинного обучения заключается в том, что качество результата зависит не от предсказанных оценок релевантности, а от порядка следования документов в рамках конкретного запроса, т.е. важно не абсолютное значение релевантности (его достаточно трудно формализовать в виде числа), а то, более или менее релевантен документ, относительно других документов.\n",
        "\n",
        "### Подходы к решению задачи ранжирования\n",
        "Существуют 3 основных подхода к ранжированию, различие между которыми заключается в том, на какую функцию потерь они опираются:\n",
        "  \n",
        "1. **Поточечный подход (pointwise)**. В этом подходе предполагается, что каждой паре запрос-документ поставлена в соответствие численная оценка. Задача обучения ранжированию сводится к построению регрессии: для каждой отдельной пары запрос-документ необходимо предсказать её оценку.\n",
        "\n",
        "2. **Попарный подход (pairwise)**. В таком подходе обучение ранжированию сводится к построению бинарного классификатора, которому на вход поступают два документа, соответствующих одному и тому же запросу, и требуется определить, какой из них лучше. Другими словами, функция потерь штрафует модель, если отранжированная этой моделью пара документов оказалась в неправильном порядке.\n",
        "\n",
        "3. **Списочный подход (listwise)**. Его суть заключается в построении модели, на вход которой поступают сразу все документы, соответствующие запросу, а на выходе получается их перестановка.\n",
        "\n",
        "\n",
        "Будем использовать самый простой подход - поточечный."
      ]
    },
    {
      "cell_type": "markdown",
      "metadata": {
        "id": "abF67TE9Sb-8",
        "colab_type": "text"
      },
      "source": [
        "### Оценка качества\n",
        "\n",
        "Для оценивания качества ранжирования найденных документов в поиске традиционно используется метрика *DCG* ([Discounted Cumulative Gain](https://en.wikipedia.org/wiki/Discounted_cumulative_gain)) и ее нормализованный вариант — *nDCG*, всегда принимающий значения от 0 до 1.\n",
        "\n",
        "Для одного запроса DCG считается следующим образом:\n",
        "$$ DCG(Q) = \\sum_{i=1}^{numpos}\\frac{(2^{rel_i} - 1)}{\\log_2(i+1)}, $$\n",
        "где\n",
        ">$numpos$ — количество документов в поисковой выдаче, среди которых мы оценимваем качество (например, в предудыщих заданиях *num_pos* был равен 5)  \n",
        "$rel_i$ — оценка релевантности документа, находящегося на i-той позиции   \n",
        "   \n",
        "\n",
        "Нормализованный вариант *nDCG* получается делением *DCG* на максимальное из его значений:\n",
        "\n",
        "$$nDCG = \\frac{DCG}{IDCG} \\in [0, 1].$$\n",
        "> *IDCG* — наибольшее из возможных значение *DCG* \n",
        "\n",
        "\n",
        "\n",
        "\n",
        "\n",
        "\n",
        "Чтобы оценить значение *nDCG* на выборке $Queries$ ($nDCG_{Queries}$) размера $N$, необходимо усреднить значение *nDCG* по всем запросам  выборки:\n",
        "$$nDCG_{Queries} = \\frac{1}{N}\\sum_{q \\in Queries}nDCG(q).$$\n",
        "\n",
        "Пример реализации метрик ранжирование на python можно найти [здесь](https://gist.github.com/mblondel/7337391)."
      ]
    },
    {
      "cell_type": "markdown",
      "metadata": {
        "id": "FneAur7ASb_A",
        "colab_type": "text"
      },
      "source": [
        "# Погнали\n",
        "###  **Задача: предсказать оценку релевантности для запросов тестового датасета**\n",
        "\n",
        "\n",
        "Мы будем работать на данных с конкурса [Интернет-математика 2009](https://academy.yandex.ru/events/data_analysis/grant2009/). По ссылке можно прочитать описание данных.      \n",
        "\n",
        "Данные\n",
        "> Данные разбиты на две выборки – обучающая выборка imat2009_learning.txt с известными оценками близости запроса и документа и тестовая выборка с неизвестными близостями imat2009_test.txt  \n",
        "\n",
        "Обучающая выборка\n",
        "> Данные для обучения содержат **97 290 строк**, которые соответствуют **9 124 запросам**  \n",
        "Каждая строка соответствует паре «запрос-документ»    \n",
        "\n",
        "Признаки\n",
        ">Каждой паре «запрос-документ» соответствуют значения **245 признаков**. Формат хранения feat_num:value. Если значение признака равно 0, то он опускается.     \n",
        "В комментариях в конце каждой строки указан **идентификатор запроса**.   \n",
        "Файл с обучающей выборкой содержит **оценку релевантности**, значения из диапазона **[0, 4]** (4 – «высокая релевантность», 0 – «нерелевантно»).   \n"
      ]
    },
    {
      "cell_type": "code",
      "metadata": {
        "id": "wBOs-mfJSl1L",
        "colab_type": "code",
        "colab": {
          "base_uri": "https://localhost:8080/",
          "height": 34
        },
        "outputId": "0c88f361-6c43-436c-bb30-8b5cc4164722"
      },
      "source": [
        "from google.colab import drive\n",
        "import sys\n",
        "drive.mount('/content/drive')\n",
        "root_path = '/content/drive/My Drive/studies/HSE/prog/infosearch/4 ml/'\n",
        "sys.path.append(root_path)"
      ],
      "execution_count": 1,
      "outputs": [
        {
          "output_type": "stream",
          "text": [
            "Mounted at /content/drive\n"
          ],
          "name": "stdout"
        }
      ]
    },
    {
      "cell_type": "markdown",
      "metadata": {
        "id": "1BSeFUQ9Sb_E",
        "colab_type": "text"
      },
      "source": [
        "### DATA"
      ]
    },
    {
      "cell_type": "code",
      "metadata": {
        "id": "W2a1LukLSb_J",
        "colab_type": "code",
        "colab": {}
      },
      "source": [
        "# LOAD TRAIN DATA\n",
        "file_learning = root_path + 'imat2009-datasets/imat2009_learning.txt'\n",
        "\n",
        "with open(file_learning) as f:\n",
        "    train_data = f.readlines()\n",
        "    \n",
        "    \n",
        "# LOAD TEST DATA\n",
        "file_test =  root_path + 'imat2009-datasets/imat2009_test.txt'\n",
        "\n",
        "with open(file_test) as f:\n",
        "    test_data = f.readlines()\n"
      ],
      "execution_count": 0,
      "outputs": []
    },
    {
      "cell_type": "code",
      "metadata": {
        "id": "sb-5HuvRSb_Z",
        "colab_type": "code",
        "colab": {
          "base_uri": "https://localhost:8080/",
          "height": 34
        },
        "outputId": "a91f79dc-053b-4f51-ff33-df754e2f58fa"
      },
      "source": [
        "len(train_data), len(test_data)"
      ],
      "execution_count": 3,
      "outputs": [
        {
          "output_type": "execute_result",
          "data": {
            "text/plain": [
              "(97290, 115643)"
            ]
          },
          "metadata": {
            "tags": []
          },
          "execution_count": 3
        }
      ]
    },
    {
      "cell_type": "markdown",
      "metadata": {
        "id": "-LK6c615Sb_p",
        "colab_type": "text"
      },
      "source": [
        "Структура данных следующая - первый элемент в строке - это оценка близости запроса и документа, дальше идут признаки документа, а последний элемент строки - это id запроса:\n",
        "\n",
        "> RELEVANCE      feature:value feature:value ... feature:value     # QUERY_ID"
      ]
    },
    {
      "cell_type": "code",
      "metadata": {
        "id": "plLoF1qPSb_t",
        "colab_type": "code",
        "colab": {
          "base_uri": "https://localhost:8080/",
          "height": 54
        },
        "outputId": "9fdc6d76-a549-4ac3-a45a-f2be9ffb2d32"
      },
      "source": [
        "train_data[0]"
      ],
      "execution_count": 4,
      "outputs": [
        {
          "output_type": "execute_result",
          "data": {
            "text/plain": [
              "'1 1:0.000023 7:0.704953 8:0.550315 9:0.032294 11:0.712631 14:0.015686 15:0.137255 16:0.302576 17:1.000000 18:0.996078 22:1.000000 23:1.000000 24:1.000000 27:0.700000 28:0.587629 29:0.999881 30:0.032294 34:0.000023 36:0.431373 37:0.002247 38:0.054902 41:1.000000 46:0.002247 50:0.032294 51:0.325613 52:0.056641 53:0.820677 54:0.388235 55:0.450980 56:0.312547 57:0.004672 59:1.000000 61:0.000023 65:1.000000 68:0.712195 69:0.001400 70:1.000000 71:0.001013 73:0.709459 74:0.560784 76:0.142857 77:0.360800 78:1.000000 79:1.000000 80:1.000000 82:0.000023 83:1.000000 85:0.996078 86:0.070588 87:1.000000 88:0.999797 92:1.000000 93:0.714286 95:0.039216 97:0.000023 98:0.356490 99:0.165041 102:1.000000 103:1.000000 104:1.000000 105:0.486275 108:0.152941 120:0.996078 121:0.676507 122:0.032294 126:0.712980 128:0.121569 129:0.609261 132:1.000000 134:0.109804 135:0.030535 140:0.002247 142:0.698039 144:0.248111 145:0.356490 146:1.000000 147:0.498039 148:0.125490 150:0.704953 151:1.000000 152:0.098039 154:0.676507 156:0.066667 157:0.001470 160:0.101961 162:0.302576 165:0.843126 166:0.400000 167:0.019608 168:0.056641 171:1.000000 172:0.857143 177:0.285714 178:0.588235 179:0.820677 180:0.032294 181:0.196491 182:0.729730 185:0.756863 192:1.000000 193:1.000000 197:0.032294 202:0.310127 203:0.001186 205:1.000000 206:0.999835 209:0.291145 210:0.980392 211:0.960784 212:0.032294 213:0.000023 214:1.000000 216:0.999998 217:0.146074 219:0.300000 222:0.666667 224:0.145098 227:0.007089 228:1.000000 229:1.000000 230:0.032294 232:1.000000 233:0.494217 236:0.032749 243:0.000023 244:1.000000 245:0.000023 # 3382\\n'"
            ]
          },
          "metadata": {
            "tags": []
          },
          "execution_count": 4
        }
      ]
    },
    {
      "cell_type": "markdown",
      "metadata": {
        "id": "JQX1zEq0Sb_6",
        "colab_type": "text"
      },
      "source": [
        "В test_data все оценки релевантности скрыты, поскольку этот набор данных использовался для проверки качества работы алгоритма в конкурсе. Нам эти данные не нужны, дальше работаем только с **train_data**."
      ]
    },
    {
      "cell_type": "markdown",
      "metadata": {
        "id": "_a-S7fnHSb_-",
        "colab_type": "text"
      },
      "source": [
        "Для проверки качества будущей модели надо разбить обучающую выборку на обучение и валидацию в соотношении 70 / 30\n",
        "\n",
        "Внимание: разбивать необходимо **множество запросов QUERY_ID**, а не строчки датасета, чтобы в выборке находилась вся информация по запросу\n",
        "\n",
        "Для этого вам надо:\n",
        "1. собрать все запросы для каждого QUERY_ID\n",
        "\n",
        "```\n",
        "{\n",
        "query_id : [\n",
        "    RELEVANCE feature:value ... feature:value,\n",
        "    ...\n",
        "],\n",
        "...\n",
        "}\n",
        "```\n",
        "\n",
        "При этом я бы сразу собирала не сами данные, а номер строки в матрице данных\n",
        "```\n",
        "{\n",
        "query_id : [\n",
        "    line_num, line_num, ... line_num\n",
        "],\n",
        "...\n",
        "}\n",
        "```\n",
        "2. собрать матрицу данных, размер вектора равен числу признаков = 245\n",
        "```\n",
        "data = np.zeros((len(train_data), feats_num), dtype=np.float32) \n",
        "```\n",
        "\n",
        "3. собрать вектор с оценками релевантности, его размер равен размеру train_data"
      ]
    },
    {
      "cell_type": "code",
      "metadata": {
        "id": "dtpT5jAgScAC",
        "colab_type": "code",
        "colab": {}
      },
      "source": [
        "import numpy as np\n",
        "from collections import defaultdict\n",
        "from math import floor\n",
        "\n",
        "labels = [] \n",
        "queries_lines_info = defaultdict(list) \n",
        "\n",
        "data = np.zeros((len(train_data), 245), dtype=np.float32) \n",
        "\n",
        "\n",
        "#YOUR CODE HERE\n",
        "for i, line in enumerate(train_data):\n",
        "    line_data = line.split(' ')\n",
        "    \n",
        "    label = floor(float(line_data[0]))\n",
        "    query_id = int(line_data[-1])\n",
        "    \n",
        "    labels.append(label)\n",
        "    queries_lines_info[query_id].append(i)\n",
        "    \n",
        "    for feat_data in line_data[1:-2]:\n",
        "        feat_id, feat_value = feat_data.split(':')\n",
        "        feat_id = int(feat_id)-1\n",
        "        \n",
        "        data[i, feat_id] = feat_value\n"
      ],
      "execution_count": 0,
      "outputs": []
    },
    {
      "cell_type": "code",
      "metadata": {
        "scrolled": true,
        "id": "0UuzVXU4ScAO",
        "colab_type": "code",
        "colab": {
          "base_uri": "https://localhost:8080/",
          "height": 185
        },
        "outputId": "a230f216-47b8-4b15-c1a8-f7089cffcf1e"
      },
      "source": [
        "list(queries_lines_info.items())[:10]"
      ],
      "execution_count": 6,
      "outputs": [
        {
          "output_type": "execute_result",
          "data": {
            "text/plain": [
              "[(3382, [0, 1, 2, 3, 4, 5, 6]),\n",
              " (11800, [7, 8, 9, 10, 11, 12, 13, 14, 15, 16, 17, 18, 19]),\n",
              " (21991, [20, 21, 22, 23, 24, 25, 26, 27, 28, 29, 30, 31, 32]),\n",
              " (19719, [33, 34, 35, 36]),\n",
              " (11542, [37, 38, 39, 40, 41]),\n",
              " (11546, [42, 43]),\n",
              " (11547, [44, 45, 46, 47, 48, 49]),\n",
              " (11544, [50, 51, 52, 53, 54, 55, 56, 57, 58, 59, 60, 61, 62, 63, 64, 65]),\n",
              " (14472, [66, 67, 68, 69, 70, 71, 72, 73]),\n",
              " (8090, [74, 75, 76, 77, 78, 79, 80, 81, 82, 83, 84, 85, 86])]"
            ]
          },
          "metadata": {
            "tags": []
          },
          "execution_count": 6
        }
      ]
    },
    {
      "cell_type": "code",
      "metadata": {
        "id": "KITNooV3ScAm",
        "colab_type": "code",
        "colab": {}
      },
      "source": [
        "# check\n",
        "assert data.shape == (len(train_data), 245)\n",
        "assert len(queries_lines_info.keys()) == 9124\n",
        "assert len(labels) == len(train_data)"
      ],
      "execution_count": 0,
      "outputs": []
    },
    {
      "cell_type": "markdown",
      "metadata": {
        "id": "TkUm6cx1ScAy",
        "colab_type": "text"
      },
      "source": [
        "Разделим запросы из *queries_lines_info.keys()* на обучающую *train_queries_ids* и валидационную выборки *test_queries_ids* (70/30)"
      ]
    },
    {
      "cell_type": "code",
      "metadata": {
        "id": "p7LsJAJUScA2",
        "colab_type": "code",
        "colab": {}
      },
      "source": [
        "from sklearn.model_selection import train_test_split\n",
        "\n",
        "#YOUR CODE HERE\n",
        "queries_ids = list(queries_lines_info.keys())\n",
        "train_queries_ids, test_queries_ids = train_test_split(queries_ids, test_size=0.3, random_state=42)\n"
      ],
      "execution_count": 0,
      "outputs": []
    },
    {
      "cell_type": "code",
      "metadata": {
        "id": "2uNVCw1CScBC",
        "colab_type": "code",
        "colab": {}
      },
      "source": [
        "# check\n",
        "assert len(train_queries_ids) / (len(train_queries_ids) + len(test_queries_ids)) == 0.6999123191582639"
      ],
      "execution_count": 0,
      "outputs": []
    },
    {
      "cell_type": "markdown",
      "metadata": {
        "id": "H5H_Sp6MScBN",
        "colab_type": "text"
      },
      "source": [
        " > Теперь у нас есть:  \n",
        " 1) айдишники запросов для обучения и валидации **queries_id_train, queries_id_test**   \n",
        " 2) матрица данных **data**   \n",
        " 3) словарь **queries_lines_info** с информацией о том, какие строчки в этой матрице соответствуют какому айдишнику  \n",
        " \n",
        " С помощью этих данных разделите матрицу data на матрицы **X_train, y_train, X_test, y_test**"
      ]
    },
    {
      "cell_type": "code",
      "metadata": {
        "id": "wsL_S57fScBR",
        "colab_type": "code",
        "colab": {
          "base_uri": "https://localhost:8080/",
          "height": 50
        },
        "outputId": "b0aafeeb-abc0-4df8-c3cb-827c0579dc38"
      },
      "source": [
        "# изи пизи способ получить несколько строк матрицы по их id данные матрицы\n",
        "data_example = np.array(\n",
        "    [\n",
        "        [0, 0, 0],\n",
        "        [1, 1, 1],\n",
        "        [2, 2, 2],\n",
        "        [3, 3, 3]\n",
        "    ]\n",
        ")\n",
        "\n",
        "data_example[[0, 3]]"
      ],
      "execution_count": 10,
      "outputs": [
        {
          "output_type": "execute_result",
          "data": {
            "text/plain": [
              "array([[0, 0, 0],\n",
              "       [3, 3, 3]])"
            ]
          },
          "metadata": {
            "tags": []
          },
          "execution_count": 10
        }
      ]
    },
    {
      "cell_type": "code",
      "metadata": {
        "scrolled": true,
        "id": "xoRLhOsvScBe",
        "colab_type": "code",
        "colab": {}
      },
      "source": [
        "# разбиваем номера строк исходной матрицы на train и test\n",
        "\n",
        "train_queries_lines_info = []\n",
        "test_queries_lines_info = []\n",
        "\n",
        "for query_id in train_queries_ids:\n",
        "    train_queries_lines_info += queries_lines_info[query_id]\n",
        "    \n",
        "for query_id in test_queries_ids:\n",
        "    test_queries_lines_info += queries_lines_info[query_id]\n",
        "\n",
        "labels = np.array(labels)\n",
        "\n",
        "X_train, y_train = data[train_queries_lines_info], labels[train_queries_lines_info]\n",
        "X_test, y_test = data[test_queries_lines_info], labels[test_queries_lines_info]"
      ],
      "execution_count": 0,
      "outputs": []
    },
    {
      "cell_type": "code",
      "metadata": {
        "id": "cx3QbEIlScBp",
        "colab_type": "code",
        "colab": {}
      },
      "source": [
        "train_queries_lines_info = np.array(train_queries_lines_info)\n",
        "test_queries_lines_info = np.array(test_queries_lines_info)"
      ],
      "execution_count": 0,
      "outputs": []
    },
    {
      "cell_type": "code",
      "metadata": {
        "id": "IQSJkW0yScB1",
        "colab_type": "code",
        "colab": {
          "base_uri": "https://localhost:8080/",
          "height": 34
        },
        "outputId": "ef5511af-7d10-4842-d952-a9fe4f5e17ae"
      },
      "source": [
        "test_queries_lines_info"
      ],
      "execution_count": 13,
      "outputs": [
        {
          "output_type": "execute_result",
          "data": {
            "text/plain": [
              "array([32350, 32351, 32352, ..., 20134, 54569, 54570])"
            ]
          },
          "metadata": {
            "tags": []
          },
          "execution_count": 13
        }
      ]
    },
    {
      "cell_type": "code",
      "metadata": {
        "id": "00oLdbnsScCM",
        "colab_type": "code",
        "colab": {}
      },
      "source": [
        "assert X_train.shape == (68418, 245) \n",
        "assert len(y_train) == 68418"
      ],
      "execution_count": 0,
      "outputs": []
    },
    {
      "cell_type": "markdown",
      "metadata": {
        "id": "mvjV2F8BScCY",
        "colab_type": "text"
      },
      "source": [
        " "
      ]
    },
    {
      "cell_type": "markdown",
      "metadata": {
        "id": "baFnwuGoScCc",
        "colab_type": "text"
      },
      "source": [
        "Поздравляю, если вы все сделали до этого моменты, вы восхитительны! \n",
        "\n",
        "Данные готовы, можно заряжать модели                                                           \n",
        "Для оценивания качества моделей используйте метрику nDCG, реализованную ниже"
      ]
    },
    {
      "cell_type": "code",
      "metadata": {
        "id": "BSKLFZ_gScCg",
        "colab_type": "code",
        "colab": {}
      },
      "source": [
        "import metrics\n",
        "\n",
        "\n",
        "def get_nDCG_score(queries, queries_lines_info, test_queries_lines_info, labels_true, labels_predicted):\n",
        "    nDCG_scores = [] # nDCG по каждому запросу\n",
        "    \n",
        "    for query in queries:\n",
        "        train_queries_lines_info\n",
        "        query_lines = queries_lines_info[query]\n",
        "        query_lines_in_testdata = [np.where(test_queries_lines_info==line)[0][0] for line in query_lines]\n",
        "        \n",
        "        query_labels_true = labels[query_lines]\n",
        "        query_labels_pred = labels_predicted[query_lines_in_testdata]\n",
        "        \n",
        "        nDCG = metrics.ndcg_score(query_labels_true, query_labels_pred, k=10)\n",
        "        nDCG_scores.append(nDCG)\n",
        "        \n",
        "    nDCG_Queries = np.sum(nDCG_scores) / len(queries) # усредняем по всем запросам\n",
        "    return nDCG_Queries\n"
      ],
      "execution_count": 0,
      "outputs": []
    },
    {
      "cell_type": "markdown",
      "metadata": {
        "id": "LH1kPJPEScC3",
        "colab_type": "text"
      },
      "source": [
        "### FIT PREDICT"
      ]
    },
    {
      "cell_type": "markdown",
      "metadata": {
        "collapsed": true,
        "id": "wYQFeutcScDB",
        "colab_type": "text"
      },
      "source": [
        "Воспользовавшись известными вам техниками построения линейной регрессии, обучите модель, предсказывающую оценку асессора\n",
        "\n",
        "``` from sklearn.linear_model import LinearRegression``` "
      ]
    },
    {
      "cell_type": "code",
      "metadata": {
        "id": "CknErgqJScDG",
        "colab_type": "code",
        "colab": {}
      },
      "source": [
        "from sklearn.linear_model import LinearRegression\n",
        "\n",
        "lin_reg = LinearRegression()\n",
        "lin_reg.fit(X_train, y_train)\n",
        "\n",
        "lin_reg_y_pred = lin_reg.predict(X_test)"
      ],
      "execution_count": 0,
      "outputs": []
    },
    {
      "cell_type": "code",
      "metadata": {
        "id": "Jrzz4anwScDV",
        "colab_type": "code",
        "colab": {
          "base_uri": "https://localhost:8080/",
          "height": 269
        },
        "outputId": "94a1e931-43e5-4f3d-fa53-91c94d1ec05f"
      },
      "source": [
        "import matplotlib.pyplot as plt\n",
        "%matplotlib inline\n",
        "\n",
        "h = plt.hist(lin_reg_y_pred, bins=20)"
      ],
      "execution_count": 17,
      "outputs": [
        {
          "output_type": "display_data",
          "data": {
            "image/png": "[encoded data removed]",
            "text/plain": [
              "<Figure size 432x288 with 1 Axes>"
            ]
          },
          "metadata": {
            "tags": []
          }
        }
      ]
    },
    {
      "cell_type": "markdown",
      "metadata": {
        "id": "MKbuhPf1ScDg",
        "colab_type": "text"
      },
      "source": [
        "Посчитаем качество модели по метрике **nDCG**"
      ]
    },
    {
      "cell_type": "code",
      "metadata": {
        "id": "uzPM3bsRScDj",
        "colab_type": "code",
        "colab": {
          "base_uri": "https://localhost:8080/",
          "height": 34
        },
        "outputId": "a40c5a2e-4207-49b2-8b56-6eb4f36305c5"
      },
      "source": [
        "score_lin_reg = get_nDCG_score(\n",
        "    queries = test_queries_ids, \n",
        "    queries_lines_info = queries_lines_info, \n",
        "    test_queries_lines_info = test_queries_lines_info, \n",
        "    labels_true = y_test, \n",
        "    labels_predicted = lin_reg_y_pred\n",
        ")\n",
        "\n",
        "score_lin_reg"
      ],
      "execution_count": 18,
      "outputs": [
        {
          "output_type": "execute_result",
          "data": {
            "text/plain": [
              "0.827759744533848"
            ]
          },
          "metadata": {
            "tags": []
          },
          "execution_count": 18
        }
      ]
    },
    {
      "cell_type": "markdown",
      "metadata": {
        "id": "WxfPHwshScDt",
        "colab_type": "text"
      },
      "source": [
        "**Давайте теперь решим эту задачу не как регрессию, а как классификацию**"
      ]
    },
    {
      "cell_type": "code",
      "metadata": {
        "id": "Wzq4T6HtScDw",
        "colab_type": "code",
        "colab": {
          "base_uri": "https://localhost:8080/",
          "height": 50
        },
        "outputId": "12916b49-2b0f-4170-d66b-df1fa62ffab5"
      },
      "source": [
        "from sklearn.svm import LinearSVC\n",
        "clf = LinearSVC(random_state=0, tol=1e-5)\n",
        "clf.fit(X_train, y_train)\n",
        "\n",
        "svc_y_pred = clf.predict(X_test)"
      ],
      "execution_count": 43,
      "outputs": [
        {
          "output_type": "stream",
          "text": [
            "/usr/local/lib/python3.6/dist-packages/sklearn/svm/base.py:929: ConvergenceWarning: Liblinear failed to converge, increase the number of iterations.\n",
            "  \"the number of iterations.\", ConvergenceWarning)\n"
          ],
          "name": "stderr"
        }
      ]
    },
    {
      "cell_type": "code",
      "metadata": {
        "id": "86ERPcAbhf3C",
        "colab_type": "code",
        "colab": {
          "base_uri": "https://localhost:8080/",
          "height": 34
        },
        "outputId": "6e8f52b2-d6db-4264-9839-2474568b8b8a"
      },
      "source": [
        "score_svc = get_nDCG_score(\n",
        "    queries = test_queries_ids, \n",
        "    queries_lines_info = queries_lines_info, \n",
        "    test_queries_lines_info = test_queries_lines_info, \n",
        "    labels_true = y_test, \n",
        "    labels_predicted = cvs_y_pred\n",
        ")\n",
        "\n",
        "score_svc"
      ],
      "execution_count": 44,
      "outputs": [
        {
          "output_type": "execute_result",
          "data": {
            "text/plain": [
              "0.7882826383847911"
            ]
          },
          "metadata": {
            "tags": []
          },
          "execution_count": 44
        }
      ]
    },
    {
      "cell_type": "markdown",
      "metadata": {
        "id": "2KDGCYZeScEB",
        "colab_type": "text"
      },
      "source": [
        "#### Ранжируем с RandomForestRegressor"
      ]
    },
    {
      "cell_type": "code",
      "metadata": {
        "id": "tUceXrSqScEF",
        "colab_type": "code",
        "colab": {}
      },
      "source": [
        "from sklearn.ensemble import RandomForestRegressor\n",
        "\n",
        "regr = RandomForestRegressor(max_depth=2, random_state=0, n_estimators=20)\n",
        "regr.fit(X_train, y_train)\n",
        "rf_y_pred = regr.predict(X_test)\n"
      ],
      "execution_count": 0,
      "outputs": []
    },
    {
      "cell_type": "code",
      "metadata": {
        "id": "fmNNcVxni1p9",
        "colab_type": "code",
        "colab": {
          "base_uri": "https://localhost:8080/",
          "height": 34
        },
        "outputId": "6fa7390f-5573-43f3-ecef-32de1db20535"
      },
      "source": [
        "score_rf = get_nDCG_score(\n",
        "    queries = test_queries_ids, \n",
        "    queries_lines_info = queries_lines_info, \n",
        "    test_queries_lines_info = test_queries_lines_info, \n",
        "    labels_true = y_test, \n",
        "    labels_predicted = rf_y_pred\n",
        ")\n",
        "\n",
        "score_rf"
      ],
      "execution_count": 39,
      "outputs": [
        {
          "output_type": "execute_result",
          "data": {
            "text/plain": [
              "0.7960207443407159"
            ]
          },
          "metadata": {
            "tags": []
          },
          "execution_count": 39
        }
      ]
    },
    {
      "cell_type": "markdown",
      "metadata": {
        "id": "RXJQeI3XScER",
        "colab_type": "text"
      },
      "source": [
        "#### Ранжируем с XGBoost"
      ]
    },
    {
      "cell_type": "code",
      "metadata": {
        "id": "jfBWqWdLScEV",
        "colab_type": "code",
        "colab": {
          "base_uri": "https://localhost:8080/",
          "height": 353
        },
        "outputId": "9451b8a8-1dd9-47e9-a30a-3b84ebdbc64d"
      },
      "source": [
        "import xgboost as xgb\n",
        "\n",
        "dtrain = xgb.DMatrix(X_train, label=y_train)\n",
        "dtest = xgb.DMatrix(X_test, label=y_test)\n",
        "evallist = [(dtest, 'eval'), (dtrain, 'train')]\n",
        "\n",
        "param = {'objective': 'multi:softmax', 'num_class': len(set(labels))}\n",
        "\n",
        "num_round = 20\n",
        "bst = xgb.train(param, dtrain, num_round, evallist)\n",
        "\n",
        "xgb_y_pred = bst.predict(dtest)\n"
      ],
      "execution_count": 40,
      "outputs": [
        {
          "output_type": "stream",
          "text": [
            "[0]\teval-merror:0.514755\ttrain-merror:0.461823\n",
            "[1]\teval-merror:0.503117\ttrain-merror:0.448332\n",
            "[2]\teval-merror:0.498511\ttrain-merror:0.441244\n",
            "[3]\teval-merror:0.498234\ttrain-merror:0.435573\n",
            "[4]\teval-merror:0.488778\ttrain-merror:0.430062\n",
            "[5]\teval-merror:0.486492\ttrain-merror:0.425473\n",
            "[6]\teval-merror:0.485799\ttrain-merror:0.419583\n",
            "[7]\teval-merror:0.481089\ttrain-merror:0.415402\n",
            "[8]\teval-merror:0.479219\ttrain-merror:0.410243\n",
            "[9]\teval-merror:0.477833\ttrain-merror:0.405507\n",
            "[10]\teval-merror:0.477002\ttrain-merror:0.401181\n",
            "[11]\teval-merror:0.475928\ttrain-merror:0.397863\n",
            "[12]\teval-merror:0.473885\ttrain-merror:0.393931\n",
            "[13]\teval-merror:0.474889\ttrain-merror:0.390438\n",
            "[14]\teval-merror:0.471876\ttrain-merror:0.386799\n",
            "[15]\teval-merror:0.468066\ttrain-merror:0.382209\n",
            "[16]\teval-merror:0.467616\ttrain-merror:0.379067\n",
            "[17]\teval-merror:0.465919\ttrain-merror:0.374609\n",
            "[18]\teval-merror:0.466646\ttrain-merror:0.370429\n",
            "[19]\teval-merror:0.464568\ttrain-merror:0.368426\n"
          ],
          "name": "stdout"
        }
      ]
    },
    {
      "cell_type": "code",
      "metadata": {
        "id": "CNr-KDHWks_H",
        "colab_type": "code",
        "colab": {
          "base_uri": "https://localhost:8080/",
          "height": 34
        },
        "outputId": "ea28c8ab-4217-4f05-d1c4-4a9f131e6b74"
      },
      "source": [
        "score_xgb = get_nDCG_score(\n",
        "    queries = test_queries_ids, \n",
        "    queries_lines_info = queries_lines_info, \n",
        "    test_queries_lines_info = test_queries_lines_info, \n",
        "    labels_true = y_test, \n",
        "    labels_predicted = xgb_y_pred\n",
        ")\n",
        "\n",
        "score_xgb"
      ],
      "execution_count": 41,
      "outputs": [
        {
          "output_type": "execute_result",
          "data": {
            "text/plain": [
              "0.7985753289739121"
            ]
          },
          "metadata": {
            "tags": []
          },
          "execution_count": 41
        }
      ]
    },
    {
      "cell_type": "markdown",
      "metadata": {
        "id": "W_qR5iyPScEg",
        "colab_type": "text"
      },
      "source": [
        "#### Ранжируем с LightGBM"
      ]
    },
    {
      "cell_type": "code",
      "metadata": {
        "id": "CSws9LgwScEk",
        "colab_type": "code",
        "colab": {
          "base_uri": "https://localhost:8080/",
          "height": 403
        },
        "outputId": "ad8438d4-6da4-4ea7-eaba-382b4b2f3a53"
      },
      "source": [
        "import lightgbm as lgb\n",
        "\n",
        "gbm = lgb.LGBMRegressor(num_leaves=31,\n",
        "                        learning_rate=0.05,\n",
        "                        n_estimators=20)\n",
        "gbm.fit(X_train, y_train,\n",
        "        eval_set=[(X_test, y_test)],\n",
        "        eval_metric='l1',\n",
        "        early_stopping_rounds=5)\n",
        "\n",
        "gbm_y_pred = gbm.predict(X_test, num_iteration=gbm.best_iteration_)"
      ],
      "execution_count": 37,
      "outputs": [
        {
          "output_type": "stream",
          "text": [
            "[1]\tvalid_0's l1: 0.776674\tvalid_0's l2: 0.847152\n",
            "Training until validation scores don't improve for 5 rounds.\n",
            "[2]\tvalid_0's l1: 0.769093\tvalid_0's l2: 0.833164\n",
            "[3]\tvalid_0's l1: 0.76272\tvalid_0's l2: 0.820003\n",
            "[4]\tvalid_0's l1: 0.757596\tvalid_0's l2: 0.808119\n",
            "[5]\tvalid_0's l1: 0.753474\tvalid_0's l2: 0.797691\n",
            "[6]\tvalid_0's l1: 0.749866\tvalid_0's l2: 0.787686\n",
            "[7]\tvalid_0's l1: 0.746702\tvalid_0's l2: 0.778751\n",
            "[8]\tvalid_0's l1: 0.743786\tvalid_0's l2: 0.770551\n",
            "[9]\tvalid_0's l1: 0.740677\tvalid_0's l2: 0.762175\n",
            "[10]\tvalid_0's l1: 0.737347\tvalid_0's l2: 0.753882\n",
            "[11]\tvalid_0's l1: 0.734331\tvalid_0's l2: 0.746611\n",
            "[12]\tvalid_0's l1: 0.731802\tvalid_0's l2: 0.740099\n",
            "[13]\tvalid_0's l1: 0.729544\tvalid_0's l2: 0.734666\n",
            "[14]\tvalid_0's l1: 0.727144\tvalid_0's l2: 0.729131\n",
            "[15]\tvalid_0's l1: 0.72544\tvalid_0's l2: 0.724752\n",
            "[16]\tvalid_0's l1: 0.722789\tvalid_0's l2: 0.719204\n",
            "[17]\tvalid_0's l1: 0.720326\tvalid_0's l2: 0.714086\n",
            "[18]\tvalid_0's l1: 0.718384\tvalid_0's l2: 0.709864\n",
            "[19]\tvalid_0's l1: 0.716673\tvalid_0's l2: 0.706226\n",
            "[20]\tvalid_0's l1: 0.714756\tvalid_0's l2: 0.70278\n",
            "Did not meet early stopping. Best iteration is:\n",
            "[20]\tvalid_0's l1: 0.714756\tvalid_0's l2: 0.70278\n"
          ],
          "name": "stdout"
        }
      ]
    },
    {
      "cell_type": "code",
      "metadata": {
        "id": "RDUAKuCHScEy",
        "colab_type": "code",
        "colab": {
          "base_uri": "https://localhost:8080/",
          "height": 34
        },
        "outputId": "cb2eaa34-53f1-4fef-b2ca-2fe0a30ee1a3"
      },
      "source": [
        "score_gbm = get_nDCG_score(\n",
        "    queries = test_queries_ids, \n",
        "    queries_lines_info = queries_lines_info, \n",
        "    test_queries_lines_info = test_queries_lines_info, \n",
        "    labels_true = y_test, \n",
        "    labels_predicted = gbm_y_pred\n",
        ")\n",
        "\n",
        "score_gbm"
      ],
      "execution_count": 42,
      "outputs": [
        {
          "output_type": "execute_result",
          "data": {
            "text/plain": [
              "0.8286947727184077"
            ]
          },
          "metadata": {
            "tags": []
          },
          "execution_count": 42
        }
      ]
    },
    {
      "cell_type": "markdown",
      "metadata": {
        "id": "c1GF2APxn5Al",
        "colab_type": "text"
      },
      "source": [
        "**RESULTS**"
      ]
    },
    {
      "cell_type": "code",
      "metadata": {
        "id": "TCAW9JGUn4L1",
        "colab_type": "code",
        "colab": {
          "base_uri": "https://localhost:8080/",
          "height": 134
        },
        "outputId": "664fae2f-02f4-4062-ce88-4a81cc20266e"
      },
      "source": [
        "scores = {'Linear Regression': score_lin_reg,\n",
        "         'Linear Classification': score_svc,\n",
        "         'Random Forest': score_rf,\n",
        "         'XGBoost': score_xgb,\n",
        "         'LightGBM': score_gbm}\n",
        "\n",
        "print(\"nDCG scores\\n\")\n",
        "for key, item in scores.items():\n",
        "  print(f\"{key.ljust(30)}  {item}\")"
      ],
      "execution_count": 55,
      "outputs": [
        {
          "output_type": "stream",
          "text": [
            "nDCG scores\n",
            "\n",
            "Linear Regression               0.827759744533848\n",
            "Linear Classification           0.7882826383847911\n",
            "Random Forest                   0.7960207443407159\n",
            "XGBoost                         0.7985753289739121\n",
            "LightGBM                        0.8286947727184077\n"
          ],
          "name": "stdout"
        }
      ]
    }
  ]
}